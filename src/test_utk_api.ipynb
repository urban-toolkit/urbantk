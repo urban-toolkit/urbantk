{
 "cells": [
  {
   "cell_type": "code",
   "execution_count": 1,
   "metadata": {},
   "outputs": [
    {
     "name": "stdout",
     "output_type": "stream",
     "text": [
      "********************************************************************************\n",
      "PlotOptiX newer version is available: 0.16.1\n",
      "to update your release use:\n",
      "      pip install plotoptix --upgrade\n",
      "********************************************************************************\n"
     ]
    }
   ],
   "source": [
    "import utk"
   ]
  },
  {
   "attachments": {},
   "cell_type": "markdown",
   "metadata": {},
   "source": [
    "### Loading OSM data using address"
   ]
  },
  {
   "cell_type": "code",
   "execution_count": 2,
   "metadata": {},
   "outputs": [],
   "source": [
    "uc = utk.OSM.load('Central Park', layers=['buildings'])\n",
    "uc.save('./central_park')"
   ]
  },
  {
   "attachments": {},
   "cell_type": "markdown",
   "metadata": {},
   "source": [
    "### Loading OSM data using bounding polygon"
   ]
  },
  {
   "cell_type": "code",
   "execution_count": 3,
   "metadata": {},
   "outputs": [],
   "source": [
    "manhattan_bpoly = [(40.7043056, -74.0206146), (40.7526203, -74.0118456), (40.7572414, -74.0101004), (40.8207866, \n",
    "              -73.9630651), (40.8348315, -73.9527512), (40.8507179, -73.9481163), (40.8785992, -73.9278746), \n",
    "              (40.8775179, -73.9221954), (40.8757012, -73.9200497), (40.8749226, -73.9155436), (40.8741764, \n",
    "              -73.9123249), (40.872457, -73.9098358), (40.8692834, -73.910079), (40.862349, -73.9151144), \n",
    "              (40.8559115, -73.92138), (40.846541, -73.927989), (40.8391604, -73.9320087), (40.8351933, \n",
    "              -73.9340544), (40.8320063, -73.9343405), (40.8287592, -73.9339685), (40.8223509, -73.9334679), \n",
    "              (40.815823, -73.9332247), (40.8092836, -73.9334822), (40.8049788, -73.9303493), (40.8005165, \n",
    "              -73.9276743), (40.7977233, -73.9281321), (40.7940206, -73.9288616), (40.7890508, -73.93507), \n",
    "              (40.784936, -73.9380455), (40.7824671, -73.9415646), (40.7806478, -73.9418221), (40.7781137, \n",
    "              -73.9407492), (40.7749947, -73.9409638), (40.7436975, -73.9698887), (40.7314323, -73.9706039), \n",
    "              (40.7209492, -73.9717197), (40.7088057, -73.9759827), (40.7062461, -73.9971256), (40.6989146, \n",
    "              -74.0097713), (40.698939, -74.0152073), (40.7007931, -74.0185118), (40.7041758, -74.0204001)\n",
    "              ]\n",
    "\n",
    "uc = utk.OSM.load(manhattan_bpoly, layers=['buildings'])\n",
    "uc.save('./manhattan')"
   ]
  },
  {
   "attachments": {},
   "cell_type": "markdown",
   "metadata": {},
   "source": [
    "### Loading OSM data using bounding box"
   ]
  },
  {
   "cell_type": "code",
   "execution_count": 4,
   "metadata": {},
   "outputs": [],
   "source": [
    "uc = utk.OSM.load([40.699768, -74.019904, 40.71135, -74.004712], layers=['buildings', 'surface', 'parks', 'water', 'roads'])\n",
    "uc.save('./manhattan')"
   ]
  },
  {
   "cell_type": "markdown",
   "metadata": {},
   "source": [
    "### Loading OSM data using pbf file"
   ]
  },
  {
   "cell_type": "code",
   "execution_count": null,
   "metadata": {},
   "outputs": [],
   "source": [
    "uc = utk.OSM.load([40.699768, -74.019904, 40.71135, -74.004712], layers=['buildings', 'surface', 'parks', 'water', 'roads'], pbf_filepath='./nyc.pbf')\n",
    "uc.save('./manhattan')"
   ]
  },
  {
   "cell_type": "markdown",
   "metadata": {},
   "source": [
    "### Loading physical layer from CSV"
   ]
  },
  {
   "cell_type": "code",
   "execution_count": null,
   "metadata": {},
   "outputs": [],
   "source": [
    "utk.physical_from_csv(\"./zip.csv\")"
   ]
  },
  {
   "cell_type": "markdown",
   "metadata": {},
   "source": [
    "### Loading physical layer from GeoJSON"
   ]
  },
  {
   "cell_type": "code",
   "execution_count": null,
   "metadata": {},
   "outputs": [],
   "source": [
    "utk.physical_from_geojson(\"./zip.geojson\")"
   ]
  },
  {
   "cell_type": "markdown",
   "metadata": {},
   "source": [
    "### Loading physical layer from shapefile"
   ]
  },
  {
   "cell_type": "code",
   "execution_count": null,
   "metadata": {},
   "outputs": [],
   "source": [
    "utk.physical_from_shapefile(\"./chicago/chicago_zip.shp\", \"chicago_zip\")"
   ]
  },
  {
   "cell_type": "markdown",
   "metadata": {},
   "source": [
    "### Loading physical layer from npy (Numpy binary array file)"
   ]
  },
  {
   "cell_type": "code",
   "execution_count": null,
   "metadata": {},
   "outputs": [],
   "source": [
    "utk.physical_from_npy('./test_data/sampled_car_by_wall_2048_np_coordinates.npy', 'car_point', [-8239611, 4941390.5, 0])"
   ]
  },
  {
   "cell_type": "markdown",
   "metadata": {},
   "source": [
    "### Loading thematic layer from CSV"
   ]
  },
  {
   "cell_type": "code",
   "execution_count": 7,
   "metadata": {},
   "outputs": [],
   "source": [
    "utk.thematic_from_csv(\"./noise.csv\", \"./\", \"latitude\", \"longitude\", \"4326\")"
   ]
  },
  {
   "cell_type": "markdown",
   "metadata": {},
   "source": [
    "### Loading thematic layer form NetCDF (WRF)"
   ]
  },
  {
   "cell_type": "code",
   "execution_count": null,
   "metadata": {},
   "outputs": [],
   "source": [
    "utk.thematic_from_netcdf('./wrfout_d03_2016-07-01.nc', 'wrf_d03_2016-07-01_t0', 'T2', 'XLAT', 'XLONG', 4326, 0)"
   ]
  },
  {
   "cell_type": "markdown",
   "metadata": {},
   "source": [
    "### Loading thematic layer from npy (Numpy binary array file)"
   ]
  },
  {
   "cell_type": "code",
   "execution_count": null,
   "metadata": {},
   "outputs": [],
   "source": [
    "utk.thematic_from_npy(\"./coordinates.npy\", \"./thematic_values.npy\", \"thematic_point_cloud\")"
   ]
  },
  {
   "cell_type": "markdown",
   "metadata": {},
   "source": [
    "### Simulating shadow casting"
   ]
  },
  {
   "cell_type": "code",
   "execution_count": null,
   "metadata": {},
   "outputs": [],
   "source": [
    "# load physical data for manhattan\n",
    "uc = utk.OSM.load([40.699768, -74.019904, 40.71135, -74.004712], layers=[{'name':'buildings', 'args': {'sizeCells': 5}}, {'name':'surface', 'args': {'sizeCells': 5}}, 'parks', 'water', 'roads'])\n",
    "uc.save('./manhattan', includeGrammar=False)\n",
    "\n",
    "# simulating shadow\n",
    "shadow = utk.data.shadow(['./manhattan/buildings.json', './manhattan/surface.json'], [[\"12/26/2015 10:00\", \"12/26/2015 11:01\"]])\n",
    "shadow.save()"
   ]
  },
  {
   "cell_type": "markdown",
   "metadata": {},
   "source": [
    "### Removing elements from physical layer"
   ]
  },
  {
   "cell_type": "code",
   "execution_count": 17,
   "metadata": {},
   "outputs": [],
   "source": [
    "utk.remove_elements('./buildings.json', [10])"
   ]
  }
 ],
 "metadata": {
  "kernelspec": {
   "display_name": "urbantk",
   "language": "python",
   "name": "python3"
  },
  "language_info": {
   "codemirror_mode": {
    "name": "ipython",
    "version": 3
   },
   "file_extension": ".py",
   "mimetype": "text/x-python",
   "name": "python",
   "nbconvert_exporter": "python",
   "pygments_lexer": "ipython3",
   "version": "3.10.6"
  },
  "orig_nbformat": 4,
  "vscode": {
   "interpreter": {
    "hash": "70e5c1a2e5a1b6bda8e8c783cf9964b5c0412d607cc5f42b6005c575303b0216"
   }
  }
 },
 "nbformat": 4,
 "nbformat_minor": 2
}
