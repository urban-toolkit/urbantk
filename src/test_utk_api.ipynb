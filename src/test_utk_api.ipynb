{
 "cells": [
  {
   "cell_type": "code",
   "execution_count": 1,
   "metadata": {},
   "outputs": [
    {
     "name": "stderr",
     "output_type": "stream",
     "text": [
      "/Users/sajalchandra/opt/anaconda3/lib/python3.9/site-packages/geopandas/_compat.py:124: UserWarning: The Shapely GEOS version (3.10.3-CAPI-1.16.1) is incompatible with the GEOS version PyGEOS was compiled with (3.10.4-CAPI-1.16.2). Conversions between both will be slow.\n",
      "  warnings.warn(\n"
     ]
    }
   ],
   "source": [
    "import utk\n",
    "import json\n",
    "from utk_backend.utk_file_handler import UTKFileHandler\n",
    "from utk_backend.osm import OSM"
   ]
  },
  {
   "attachments": {},
   "cell_type": "markdown",
   "metadata": {},
   "source": [
    "### Loading OSM data using address"
   ]
  },
  {
   "cell_type": "code",
   "execution_count": 2,
   "metadata": {},
   "outputs": [
    {
     "data": {
      "application/vnd.jupyter.widget-view+json": {
       "model_id": "0bd505c330494e47bceca846579dd858",
       "version_major": 2,
       "version_minor": 0
      },
      "text/plain": [
       "  0%|          | 0/1540 [00:00<?, ?it/s]"
      ]
     },
     "metadata": {},
     "output_type": "display_data"
    }
   ],
   "source": [
    "uc = OSM.load('Central Park')\n"
   ]
  },
  {
   "cell_type": "code",
   "execution_count": 3,
   "metadata": {},
   "outputs": [
    {
     "name": "stdout",
     "output_type": "stream",
     "text": [
      "-------------writing parks as d-------------\n",
      "type of coordinates is d with length 20379\n",
      "Successfully added parks to blob.\n",
      "-------------writing parks as I-------------\n",
      "type of indices is I with length 18459\n",
      "Successfully added parks to blob.\n",
      "Data has been written to file parks\n",
      "\n",
      "KSNSFNSFKLFNFS\n",
      "\n",
      "\n",
      "POINTER DATA for parks has been written!!!\n",
      "-------------writing water as d-------------\n",
      "type of coordinates is d with length 9138\n",
      "Successfully added water to blob.\n",
      "-------------writing water as I-------------\n",
      "type of indices is I with length 8913\n",
      "Successfully added water to blob.\n",
      "Data has been written to file water\n",
      "\n",
      "KSNSFNSFKLFNFS\n",
      "\n",
      "\n",
      "POINTER DATA for water has been written!!!\n",
      "-------------writing roads as d-------------\n",
      "type of coordinates is d with length 539538\n",
      "Successfully added roads to blob.\n",
      "-------------writing roads as I-------------\n",
      "type of indices is I with length 517938\n",
      "Successfully added roads to blob.\n",
      "Data has been written to file roads\n",
      "\n",
      "KSNSFNSFKLFNFS\n",
      "\n",
      "\n",
      "POINTER DATA for roads has been written!!!\n",
      "-------------writing buildings as d-------------\n",
      "type of coordinates is d with length 3961692\n",
      "Successfully added buildings to blob.\n",
      "-------------writing buildings as f-------------\n",
      "type of normals is f with length 3961692\n",
      "Successfully added buildings to blob.\n",
      "-------------writing buildings as I-------------\n",
      "type of indices is I with length 2052591\n",
      "Successfully added buildings to blob.\n",
      "-------------writing buildings as I-------------\n",
      "type of ids is I with length 684197\n",
      "Successfully added buildings to blob.\n",
      "Data has been written to file buildings\n",
      "\n",
      "KSNSFNSFKLFNFS\n",
      "\n",
      "\n",
      "POINTER DATA for buildings has been written!!!\n"
     ]
    }
   ],
   "source": [
    "uc.save('./utk_new_structure_fn_complete')"
   ]
  },
  {
   "cell_type": "code",
   "execution_count": null,
   "metadata": {},
   "outputs": [],
   "source": []
  },
  {
   "cell_type": "code",
   "execution_count": null,
   "metadata": {},
   "outputs": [],
   "source": []
  },
  {
   "cell_type": "code",
   "execution_count": 4,
   "metadata": {},
   "outputs": [
    {
     "data": {
      "application/vnd.jupyter.widget-view+json": {
       "model_id": "8ce6a1609c8a4463b4894583123c5c51",
       "version_major": 2,
       "version_minor": 0
      },
      "text/plain": [
       "  0%|          | 0/1540 [00:00<?, ?it/s]"
      ]
     },
     "metadata": {},
     "output_type": "display_data"
    }
   ],
   "source": [
    "uc3 = OSM.load('Central Park')"
   ]
  },
  {
   "cell_type": "code",
   "execution_count": 5,
   "metadata": {},
   "outputs": [
    {
     "name": "stdout",
     "output_type": "stream",
     "text": [
      "id -> parks\n",
      "data -> 218\n",
      "id -> water\n",
      "data -> 26\n",
      "id -> roads\n",
      "data -> 2400\n",
      "id -> buildings\n",
      "data -> 1540\n"
     ]
    }
   ],
   "source": [
    "for l in uc3.layers['json']:\n",
    "    print(f'id -> {l[\"id\"]}\\ndata -> {len(l[\"data\"])}')"
   ]
  },
  {
   "cell_type": "code",
   "execution_count": 1,
   "metadata": {},
   "outputs": [],
   "source": [
    "# uc3.save('./utk_workflow_3')"
   ]
  },
  {
   "cell_type": "code",
   "execution_count": 5,
   "metadata": {},
   "outputs": [],
   "source": [
    "with open('./utk_workflow/buildings.json', 'r') as file:\n",
    "    df_buildings = json.load(file)\n"
   ]
  },
  {
   "cell_type": "code",
   "execution_count": 8,
   "metadata": {},
   "outputs": [
    {
     "ename": "NameError",
     "evalue": "name 'df_buildings' is not defined",
     "output_type": "error",
     "traceback": [
      "\u001b[0;31m---------------------------------------------------------------------------\u001b[0m",
      "\u001b[0;31mNameError\u001b[0m                                 Traceback (most recent call last)",
      "\u001b[0;32m/var/folders/yc/wxxj4gcj6q1f0kpf_507pky40000gn/T/ipykernel_60538/3785632086.py\u001b[0m in \u001b[0;36m<module>\u001b[0;34m\u001b[0m\n\u001b[0;32m----> 1\u001b[0;31m \u001b[0mdf_buildings\u001b[0m\u001b[0;34m.\u001b[0m\u001b[0mkeys\u001b[0m\u001b[0;34m(\u001b[0m\u001b[0;34m)\u001b[0m\u001b[0;34m\u001b[0m\u001b[0;34m\u001b[0m\u001b[0m\n\u001b[0m",
      "\u001b[0;31mNameError\u001b[0m: name 'df_buildings' is not defined"
     ]
    }
   ],
   "source": [
    "df_buildings.keys()"
   ]
  },
  {
   "cell_type": "code",
   "execution_count": 7,
   "metadata": {},
   "outputs": [],
   "source": [
    "utk_handler = UTKFileHandler()"
   ]
  },
  {
   "cell_type": "code",
   "execution_count": 8,
   "metadata": {},
   "outputs": [],
   "source": [
    "attr_buildings = utk_handler.create_attribute_dict(df_buildings)"
   ]
  },
  {
   "cell_type": "code",
   "execution_count": 9,
   "metadata": {},
   "outputs": [
    {
     "data": {
      "text/plain": [
       "dict_keys(['coordinates', 'indices', 'normals', 'ids', 'orientedEnvelope', 'sectionFootprint', 'discardFuncInterval'])"
      ]
     },
     "execution_count": 9,
     "metadata": {},
     "output_type": "execute_result"
    }
   ],
   "source": [
    "attr_buildings.keys()"
   ]
  },
  {
   "cell_type": "code",
   "execution_count": 10,
   "metadata": {},
   "outputs": [
    {
     "name": "stdout",
     "output_type": "stream",
     "text": [
      "Data has been written to file buildings\n"
     ]
    }
   ],
   "source": [
    "utk_handler.create_utk_binary(attribute_dict=attr_buildings, df=df_buildings, utk_filename='buildings')"
   ]
  },
  {
   "cell_type": "code",
   "execution_count": null,
   "metadata": {},
   "outputs": [],
   "source": []
  },
  {
   "cell_type": "code",
   "execution_count": 35,
   "metadata": {},
   "outputs": [],
   "source": [
    "uc.save('./utk_data')"
   ]
  },
  {
   "attachments": {},
   "cell_type": "markdown",
   "metadata": {},
   "source": [
    "### Loading OSM data using bounding polygon"
   ]
  },
  {
   "cell_type": "code",
   "execution_count": 4,
   "metadata": {},
   "outputs": [
    {
     "data": {
      "application/vnd.jupyter.widget-view+json": {
       "model_id": "a199d68c1e1b41b5a5720e00940e66d0",
       "version_major": 2,
       "version_minor": 0
      },
      "text/plain": [
       "  0%|          | 0/10089 [00:00<?, ?it/s]"
      ]
     },
     "metadata": {},
     "output_type": "display_data"
    },
    {
     "name": "stdout",
     "output_type": "stream",
     "text": [
      "Data has been written to file parks\n",
      "\n",
      "Data has been written to file water\n",
      "\n",
      "Data has been written to file roads\n",
      "\n",
      "Data has been written to file buildings\n",
      "\n"
     ]
    }
   ],
   "source": [
    "manhattan_bpoly = [(40.7043056, -74.0206146), (40.7526203, -74.0118456), (40.7572414, -74.0101004), (40.8207866, \n",
    "              -73.9630651), (40.8348315, -73.9527512), (40.8507179, -73.9481163), (40.8785992, -73.9278746), \n",
    "              (40.8775179, -73.9221954), (40.8757012, -73.9200497), (40.8749226, -73.9155436), (40.8741764, \n",
    "              -73.9123249), (40.872457, -73.9098358), (40.8692834, -73.910079), (40.862349, -73.9151144), \n",
    "              (40.8559115, -73.92138), (40.846541, -73.927989), (40.8391604, -73.9320087), (40.8351933, \n",
    "              -73.9340544), (40.8320063, -73.9343405), (40.8287592, -73.9339685), (40.8223509, -73.9334679), \n",
    "              (40.815823, -73.9332247), (40.8092836, -73.9334822), (40.8049788, -73.9303493), (40.8005165, \n",
    "              -73.9276743), (40.7977233, -73.9281321), (40.7940206, -73.9288616), (40.7890508, -73.93507), \n",
    "              (40.784936, -73.9380455), (40.7824671, -73.9415646), (40.7806478, -73.9418221), (40.7781137, \n",
    "              -73.9407492), (40.7749947, -73.9409638), (40.7436975, -73.9698887), (40.7314323, -73.9706039), \n",
    "              (40.7209492, -73.9717197), (40.7088057, -73.9759827), (40.7062461, -73.9971256), (40.6989146, \n",
    "              -74.0097713), (40.698939, -74.0152073), (40.7007931, -74.0185118), (40.7041758, -74.0204001)\n",
    "              ]\n",
    "\n",
    "uc = OSM.load(manhattan_bpoly)\n",
    "uc.save('./manhattan')"
   ]
  },
  {
   "attachments": {},
   "cell_type": "markdown",
   "metadata": {},
   "source": [
    "### Loading OSM data using bounding box"
   ]
  },
  {
   "cell_type": "code",
   "execution_count": 6,
   "metadata": {},
   "outputs": [
    {
     "name": "stdout",
     "output_type": "stream",
     "text": [
      "Data has been written to file parks\n",
      "\n",
      "\n",
      "\n",
      "\n",
      "\n",
      "\n",
      "\n",
      "\n",
      "Data has been written to file water\n",
      "\n",
      "\n",
      "\n",
      "\n",
      "\n",
      "\n",
      "\n",
      "\n",
      "Data has been written to file roads\n",
      "\n",
      "\n",
      "\n",
      "\n",
      "\n",
      "\n",
      "\n",
      "\n"
     ]
    }
   ],
   "source": [
    "uc = OSM.load([40.699768, -74.019904, 40.71135, -74.004712], layers=['parks', 'water', 'roads'])\n",
    "uc.save('./test_data')"
   ]
  },
  {
   "cell_type": "markdown",
   "metadata": {},
   "source": [
    "### Loading OSM data using pbf file"
   ]
  },
  {
   "cell_type": "code",
   "execution_count": null,
   "metadata": {},
   "outputs": [],
   "source": [
    "uc = utk.OSM.load([40.699768, -74.019904, 40.71135, -74.004712], layers=['buildings', 'surface', 'parks', 'water', 'roads'], pbf_filepath='./nyc.pbf')\n",
    "uc.save('./manhattan')"
   ]
  },
  {
   "cell_type": "markdown",
   "metadata": {},
   "source": [
    "### Loading physical layer from CSV"
   ]
  },
  {
   "cell_type": "code",
   "execution_count": null,
   "metadata": {},
   "outputs": [],
   "source": [
    "utk.physical_from_csv(\"./zip.csv\")"
   ]
  },
  {
   "cell_type": "markdown",
   "metadata": {},
   "source": [
    "### Loading physical layer from GeoJSON"
   ]
  },
  {
   "cell_type": "code",
   "execution_count": null,
   "metadata": {},
   "outputs": [],
   "source": [
    "utk.physical_from_geojson(\"./zip.geojson\")"
   ]
  },
  {
   "cell_type": "markdown",
   "metadata": {},
   "source": [
    "### Loading physical layer from shapefile"
   ]
  },
  {
   "cell_type": "code",
   "execution_count": null,
   "metadata": {},
   "outputs": [],
   "source": [
    "utk.physical_from_shapefile(\"./chicago/chicago_zip.shp\", \"chicago_zip\")"
   ]
  },
  {
   "cell_type": "markdown",
   "metadata": {},
   "source": [
    "### Loading physical layer from npy (Numpy binary array file)"
   ]
  },
  {
   "cell_type": "code",
   "execution_count": null,
   "metadata": {},
   "outputs": [],
   "source": [
    "utk.physical_from_npy('./test_data/sampled_car_by_wall_2048_np_coordinates.npy', 'car_point', [-8239611, 4941390.5, 0])"
   ]
  },
  {
   "cell_type": "markdown",
   "metadata": {},
   "source": [
    "### Loading thematic layer from CSV"
   ]
  },
  {
   "cell_type": "code",
   "execution_count": 7,
   "metadata": {},
   "outputs": [],
   "source": [
    "utk.thematic_from_csv(\"./noise.csv\", \"./\", \"latitude\", \"longitude\", \"4326\")"
   ]
  },
  {
   "cell_type": "markdown",
   "metadata": {},
   "source": [
    "### Loading thematic layer form NetCDF (WRF)"
   ]
  },
  {
   "cell_type": "code",
   "execution_count": null,
   "metadata": {},
   "outputs": [],
   "source": [
    "utk.thematic_from_netcdf('./wrfout_d03_2016-07-01.nc', 'wrf_d03_2016-07-01_t0', 'T2', 'XLAT', 'XLONG', 4326, 0)"
   ]
  },
  {
   "cell_type": "markdown",
   "metadata": {},
   "source": [
    "### Loading thematic layer from npy (Numpy binary array file)"
   ]
  },
  {
   "cell_type": "code",
   "execution_count": null,
   "metadata": {},
   "outputs": [],
   "source": [
    "utk.thematic_from_npy(\"./coordinates.npy\", \"./thematic_values.npy\", \"thematic_point_cloud\")"
   ]
  },
  {
   "cell_type": "markdown",
   "metadata": {},
   "source": [
    "### Simulating shadow casting"
   ]
  },
  {
   "cell_type": "code",
   "execution_count": null,
   "metadata": {},
   "outputs": [],
   "source": [
    "# load physical data for manhattan\n",
    "uc = utk.OSM.load([40.699768, -74.019904, 40.71135, -74.004712], layers=[{'name':'buildings', 'args': {'sizeCells': 5}}, {'name':'surface', 'args': {'sizeCells': 5}}, 'parks', 'water', 'roads'])\n",
    "uc.save('./manhattan', includeGrammar=False)\n",
    "\n",
    "# simulating shadow\n",
    "shadow = utk.data.shadow(['./manhattan/buildings.json', './manhattan/surface.json'], [[\"12/26/2015 10:00\", \"12/26/2015 11:01\"]])\n",
    "shadow.save()"
   ]
  },
  {
   "cell_type": "markdown",
   "metadata": {},
   "source": [
    "### Removing elements from physical layer"
   ]
  },
  {
   "cell_type": "code",
   "execution_count": 17,
   "metadata": {},
   "outputs": [],
   "source": [
    "utk.remove_elements('./buildings.json', [10])"
   ]
  }
 ],
 "metadata": {
  "kernelspec": {
   "display_name": "base",
   "language": "python",
   "name": "python3"
  },
  "language_info": {
   "codemirror_mode": {
    "name": "ipython",
    "version": 3
   },
   "file_extension": ".py",
   "mimetype": "text/x-python",
   "name": "python",
   "nbconvert_exporter": "python",
   "pygments_lexer": "ipython3",
   "version": "3.9.13"
  },
  "orig_nbformat": 4,
  "vscode": {
   "interpreter": {
    "hash": "b4351807a6c6bda5d21ae3993f780f83f680b298c5efdaa552017137dbdbbfe2"
   }
  }
 },
 "nbformat": 4,
 "nbformat_minor": 2
}
