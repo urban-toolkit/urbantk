{
 "cells": [
  {
   "cell_type": "code",
   "execution_count": null,
   "metadata": {},
   "outputs": [],
   "source": []
  },
  {
   "cell_type": "code",
   "execution_count": 3,
   "metadata": {},
   "outputs": [],
   "source": [
    "import utk\n",
    "import sys\n",
    "sys.path.append('../../src/')\n",
    "import json\n",
    "import utk_backend\n",
    "from utk_backend.utk_file_handler import UTKFileHandler\n",
    "# from utk_backend.utk_file_handler import UTKFileHandler\n",
    "from utk_backend.osm import OSM\n",
    "from utk_backend.load_utk_binary import UTK_Binary_Loader\n",
    "from utk_backend.data import shadow_utk_binary"
   ]
  },
  {
   "cell_type": "code",
   "execution_count": 3,
   "metadata": {},
   "outputs": [
    {
     "data": {
      "application/vnd.jupyter.widget-view+json": {
       "model_id": "141620892e4044b7976264846a104532",
       "version_major": 2,
       "version_minor": 0
      },
      "text/plain": [
       "  0%|          | 0/252 [00:00<?, ?it/s]"
      ]
     },
     "metadata": {},
     "output_type": "display_data"
    },
    {
     "name": "stdout",
     "output_type": "stream",
     "text": [
      "-------------writing buildings as d-------------\n",
      "type of coordinates is d with length 5171868\n",
      "-------------writing buildings as f-------------\n",
      "type of normals is f with length 5171868\n",
      "-------------writing buildings as I-------------\n",
      "type of indices is I with length 2600760\n",
      "-------------writing buildings as I-------------\n",
      "type of ids is I with length 866920\n",
      "Data has been written to file buildings\n",
      "\n",
      "KSNSFNSFKLFNFS\n",
      "\n",
      "\n",
      "-------------writing surface as d-------------\n",
      "type of coordinates is d with length 1379052\n",
      "-------------writing surface as f-------------\n",
      "type of normals is f with length 1379052\n",
      "-------------writing surface as I-------------\n",
      "type of indices is I with length 689526\n",
      "-------------writing surface as I-------------\n",
      "type of ids is I with length 229842\n",
      "Data has been written to file surface\n",
      "\n",
      "KSNSFNSFKLFNFS\n",
      "\n",
      "\n",
      "-------------writing parks as d-------------\n",
      "type of coordinates is d with length 12051\n",
      "-------------writing parks as I-------------\n",
      "type of indices is I with length 10176\n",
      "Data has been written to file parks\n",
      "\n",
      "KSNSFNSFKLFNFS\n",
      "\n",
      "\n",
      "-------------writing water as d-------------\n",
      "type of coordinates is d with length 2274\n",
      "-------------writing water as I-------------\n",
      "type of indices is I with length 1950\n",
      "Data has been written to file water\n",
      "\n",
      "KSNSFNSFKLFNFS\n",
      "\n",
      "\n",
      "-------------writing roads as d-------------\n",
      "type of coordinates is d with length 223425\n",
      "-------------writing roads as I-------------\n",
      "type of indices is I with length 214335\n",
      "Data has been written to file roads\n",
      "\n",
      "KSNSFNSFKLFNFS\n",
      "\n",
      "\n"
     ]
    }
   ],
   "source": [
    "uc_buildings = OSM.load([40.699768, -74.019904, 40.71135, -74.004712], layers=[{'name':'buildings', 'args': {'sizeCells': 5}}, {'name':'surface', 'args': {'sizeCells': 5}}, 'parks', 'water', 'roads'])\n",
    "uc_buildings.save('./downtown_manhattan_fix2', includeGrammar=True)"
   ]
  },
  {
   "attachments": {},
   "cell_type": "markdown",
   "metadata": {},
   "source": [
    "## Getting file content from load_utk|\n",
    "# seee what happends if use original content in shadow accumulator"
   ]
  },
  {
   "cell_type": "markdown",
   "metadata": {},
   "source": []
  },
  {
   "cell_type": "code",
   "execution_count": 4,
   "metadata": {},
   "outputs": [],
   "source": [
    "org_content_buildings = utk_backend.load_utk(filepath='./downtown_manhattan_bldgs/buildings.json')\n",
    "org_content_surface = utk_backend.load_utk(filepath='./downtown_manhattan_bldgs/buildings.json')\n"
   ]
  },
  {
   "cell_type": "code",
   "execution_count": 11,
   "metadata": {},
   "outputs": [
    {
     "name": "stdout",
     "output_type": "stream",
     "text": [
      "dict_keys(['id', 'type', 'renderStyle', 'styleKey', 'data'])\n",
      "dict_keys(['id', 'type', 'renderStyle', 'styleKey', 'data'])\n",
      "252\n",
      "252\n",
      "coords org_content -> 5171868\n",
      "norms org_content -> 2600760\n",
      "coords buildings_json -> 5171868\n",
      "norms buildings_json -> 2600760\n"
     ]
    }
   ],
   "source": [
    "print(org_content.keys())\n",
    "print(buildings_json.keys())\n",
    "\n",
    "print(len(org_content['data']))\n",
    "print(len(buildings_json['data']))\n",
    "\n",
    "ccount = 0\n",
    "ncount = 0\n",
    "for i in range(len(org_content['data'])):\n",
    "    ccount += len(org_content['data'][i]['geometry']['coordinates'])\n",
    "    ncount += len(org_content['data'][i]['geometry']['indices'])\n",
    "\n",
    "\n",
    "print(f'coords org_content -> {ccount}')\n",
    "print(f'norms org_content -> {ncount}')\n",
    "\n",
    "\n",
    "ccount = 0\n",
    "ncount = 0\n",
    "for i in range(len(buildings_json['data'])):\n",
    "    ccount += len(buildings_json['data'][i]['geometry']['coordinates'])\n",
    "    ncount += len(buildings_json['data'][i]['geometry']['indices'])\n",
    "\n",
    "\n",
    "print(f'coords buildings_json -> {ccount}')\n",
    "print(f'norms buildings_json -> {ncount}')\n"
   ]
  },
  {
   "cell_type": "code",
   "execution_count": 7,
   "metadata": {},
   "outputs": [
    {
     "name": "stdout",
     "output_type": "stream",
     "text": [
      "temp is 2 in size\n",
      "ptr is 6 in size, lengths [0, 8, 8, 8, 8, 16]\n",
      "blob is 5 in size, lens [0, 11032416, 5516208, 2758104, 919368]\n",
      "buffer size for coordinates(size2) is 2\n",
      "buffer size for indices(size2) is 2\n",
      "buffer size for normals(size2) is 2\n",
      "buffer size for ids(size2) is 2\n",
      "buffer size for discardFuncInterval(size16) is 2\n",
      "CURR BLOB OF coordinates is 11032416 in length!!!!!\n",
      "coordinates is 1379052 in length\n",
      "CURR BLOB OF normals is 5516208 in length!!!!!\n",
      "normals is 1379052 in length\n",
      "CURR BLOB OF indices is 2758104 in length!!!!!\n",
      "indices is 689526 in length\n",
      "CURR BLOB OF ids is 919368 in length!!!!!\n",
      "ids is 229842 in length\n",
      "length of coordinates is 1379052\n",
      "length of normals is 1379052\n",
      "length of indices is 689526\n",
      "length of ids is 229842\n",
      "Done parsing raw data\n",
      "coords parsed_json -> 1379052\n",
      "norms parsed_json -> 689526\n",
      "indices parsed_json -> 689526\n",
      "ids parsed_json -> 229842\n"
     ]
    }
   ],
   "source": [
    "utk_loader = UTK_Binary_Loader()\n",
    "surface_json = utk_loader.load_utk_binary('./downtown_manhattan_fix2/surface.utk', './downtown_manhattan_fix2/surface_blob.data')\n"
   ]
  },
  {
   "cell_type": "code",
   "execution_count": 8,
   "metadata": {},
   "outputs": [
    {
     "name": "stdout",
     "output_type": "stream",
     "text": [
      "temp is 2 in size\n",
      "ptr is 7 in size, lengths [0, 2016, 2016, 2016, 2016, 96768, 663888]\n",
      "blob is 5 in size, lens [0, 41374944, 20687472, 10403040, 3467680]\n",
      "buffer size for coordinates(size504) is 504\n",
      "buffer size for indices(size504) is 504\n",
      "buffer size for normals(size504) is 504\n",
      "buffer size for ids(size504) is 504\n",
      "buffer size for orientedEnvelope(size12096) is 12096\n",
      "buffer size for sectionFootprint(size82986) is 82986\n",
      "CURR BLOB OF coordinates is 41374944 in length!!!!!\n",
      "coordinates is 5171868 in length\n",
      "CURR BLOB OF normals is 20687472 in length!!!!!\n",
      "normals is 5171868 in length\n",
      "CURR BLOB OF indices is 10403040 in length!!!!!\n",
      "indices is 2600760 in length\n",
      "CURR BLOB OF ids is 3467680 in length!!!!!\n",
      "ids is 866920 in length\n",
      "length of coordinates is 5171868\n",
      "length of normals is 5171868\n",
      "length of indices is 2600760\n",
      "length of ids is 866920\n",
      "Done parsing raw data\n",
      "coords parsed_json -> 5171868\n",
      "norms parsed_json -> 2600760\n",
      "indices parsed_json -> 2600760\n",
      "ids parsed_json -> 866920\n"
     ]
    }
   ],
   "source": [
    "buildings_json = utk_loader.load_utk_binary('./downtown_manhattan_fix/buildings.utk', './downtown_manhattan_fix/buildings_blob.data')\n"
   ]
  },
  {
   "cell_type": "code",
   "execution_count": 8,
   "metadata": {},
   "outputs": [
    {
     "name": "stdout",
     "output_type": "stream",
     "text": [
      "18792\n",
      "9462\n",
      "coords -> 1379052\n",
      "norms -> 689526\n"
     ]
    },
    {
     "data": {
      "text/plain": [
       "False"
      ]
     },
     "execution_count": 8,
     "metadata": {},
     "output_type": "execute_result"
    }
   ],
   "source": [
    "print(len(buildings_json['data'][0]['geometry']['coordinates']))\n",
    "print(len(buildings_json['data'][0]['geometry']['normals']))\n",
    "\n",
    "ccount = 0\n",
    "ncount = 0\n",
    "for i in range(len(surface_json['data'])):\n",
    "    ccount += len(surface_json['data'][i]['geometry']['coordinates'])\n",
    "    ncount += len(surface_json['data'][i]['geometry']['indices'])\n",
    "\n",
    "\n",
    "print(f'coords -> {ccount}')\n",
    "print(f'norms -> {ncount}')\n",
    "\n",
    "len(buildings_json['data'][0]['geometry']['normals']) == len(buildings_json['data'][0]['geometry']['indices'])"
   ]
  },
  {
   "cell_type": "markdown",
   "metadata": {},
   "source": []
  },
  {
   "cell_type": "code",
   "execution_count": null,
   "metadata": {},
   "outputs": [],
   "source": []
  },
  {
   "cell_type": "code",
   "execution_count": null,
   "metadata": {},
   "outputs": [],
   "source": [
    "surface_json['data'][0]"
   ]
  },
  {
   "cell_type": "code",
   "execution_count": null,
   "metadata": {},
   "outputs": [],
   "source": []
  },
  {
   "cell_type": "code",
   "execution_count": null,
   "metadata": {},
   "outputs": [],
   "source": []
  },
  {
   "cell_type": "code",
   "execution_count": null,
   "metadata": {},
   "outputs": [],
   "source": [
    "# len(decoded_json['data'][0]['geometry']['coordinates'])"
   ]
  },
  {
   "cell_type": "code",
   "execution_count": null,
   "metadata": {},
   "outputs": [],
   "source": [
    "# type(decoded_data)\n",
    "for k, v in decoded_ptr.items():\n",
    "    print(f'key = {k}, size = {len(v)}')\n",
    "for k, v in decoded_bin.items():\n",
    "    print(f'key = {k}, size = {len(v)}')\n",
    "# print(decoded_ptr.keys())\n",
    "# print(decoded_bin.keys())"
   ]
  },
  {
   "cell_type": "code",
   "execution_count": null,
   "metadata": {},
   "outputs": [],
   "source": [
    "decoded_ptr['orientedEnvelope'][35:50]"
   ]
  },
  {
   "cell_type": "code",
   "execution_count": null,
   "metadata": {},
   "outputs": [],
   "source": []
  },
  {
   "attachments": {},
   "cell_type": "markdown",
   "metadata": {},
   "source": [
    "### Loading layers from OSM"
   ]
  },
  {
   "attachments": {},
   "cell_type": "markdown",
   "metadata": {},
   "source": [
    "Loading water, parks, street network (roads), surface, buildings.  \n",
    "\n",
    "Notice that the buildings and surface layers are specified through an object, this structure is used to defined the discretization level of the layer. Check the [documentation](https://github.com/urban-toolkit/urbantk-react-ts/tree/master/src/pythonComponents/dataLoading/README.md) for more details.  \n",
    "\n",
    "The surface is loaded to allow for the ray tracing calculation.  "
   ]
  },
  {
   "cell_type": "code",
   "execution_count": 12,
   "metadata": {},
   "outputs": [
    {
     "data": {
      "application/vnd.jupyter.widget-view+json": {
       "model_id": "0d5fc28a943d417ea50008f538d91d25",
       "version_major": 2,
       "version_minor": 0
      },
      "text/plain": [
       "  0%|          | 0/252 [00:00<?, ?it/s]"
      ]
     },
     "metadata": {},
     "output_type": "display_data"
    }
   ],
   "source": [
    "uc = utk.OSM.load([40.699768, -74.019904, 40.71135, -74.004712], layers=[{'name':'buildings', 'args': {'sizeCells': 5}}, {'name':'surface', 'args': {'sizeCells': 5}}, 'parks', 'water', 'roads'])\n",
    "uc.save('./downtown_manhattan_org', includeGrammar=True)"
   ]
  },
  {
   "attachments": {},
   "cell_type": "markdown",
   "metadata": {},
   "source": [
    "### Shadow computation (ray tracing)\n",
    "Check the [requirements](https://github.com/urban-toolkit/urbantk-react-ts/tree/master/README.md) for ray tracing."
   ]
  },
  {
   "cell_type": "code",
   "execution_count": null,
   "metadata": {},
   "outputs": [],
   "source": []
  },
  {
   "cell_type": "code",
   "execution_count": null,
   "metadata": {},
   "outputs": [],
   "source": []
  },
  {
   "cell_type": "code",
   "execution_count": 15,
   "metadata": {},
   "outputs": [],
   "source": [
    "org_content_buildings = utk_backend.load_utk(filepath='./downtown_manhattan_org/buildings.json')\n",
    "org_content_surface = utk_backend.load_utk(filepath='./downtown_manhattan_org/surface.json')\n"
   ]
  },
  {
   "cell_type": "code",
   "execution_count": 16,
   "metadata": {},
   "outputs": [
    {
     "ename": "NameError",
     "evalue": "name 'NpOptiX' is not defined",
     "output_type": "error",
     "traceback": [
      "\u001b[0;31m---------------------------------------------------------------------------\u001b[0m",
      "\u001b[0;31mNameError\u001b[0m                                 Traceback (most recent call last)",
      "\u001b[0;32m/var/folders/yc/wxxj4gcj6q1f0kpf_507pky40000gn/T/ipykernel_23313/3180464916.py\u001b[0m in \u001b[0;36m<module>\u001b[0;34m\u001b[0m\n\u001b[0;32m----> 1\u001b[0;31m \u001b[0mshadow\u001b[0m \u001b[0;34m=\u001b[0m \u001b[0mshadow_utk_binary\u001b[0m\u001b[0;34m(\u001b[0m\u001b[0;34m[\u001b[0m\u001b[0morg_content_buildings\u001b[0m\u001b[0;34m,\u001b[0m \u001b[0morg_content_surface\u001b[0m\u001b[0;34m]\u001b[0m\u001b[0;34m,\u001b[0m \u001b[0;34m[\u001b[0m\u001b[0;34m[\u001b[0m\u001b[0;34m\"12/26/2015 10:00\"\u001b[0m\u001b[0;34m,\u001b[0m \u001b[0;34m\"12/26/2015 11:01\"\u001b[0m\u001b[0;34m]\u001b[0m\u001b[0;34m]\u001b[0m\u001b[0;34m)\u001b[0m\u001b[0;34m\u001b[0m\u001b[0;34m\u001b[0m\u001b[0m\n\u001b[0m\u001b[1;32m      2\u001b[0m \u001b[0mshadow\u001b[0m\u001b[0;34m.\u001b[0m\u001b[0msave\u001b[0m\u001b[0;34m(\u001b[0m\u001b[0;34m)\u001b[0m\u001b[0;34m\u001b[0m\u001b[0;34m\u001b[0m\u001b[0m\n",
      "\u001b[0;32m~/Desktop/UIC/Research with Prof Miranda/Urban-Toolkit/UTK/utk-pip-version/cloned-from-git/utk/examples/downtown_manhattan/../../src/utk_backend/data.py\u001b[0m in \u001b[0;36mshadow_utk_binary\u001b[0;34m(layerJSONs, intervals)\u001b[0m\n\u001b[1;32m     62\u001b[0m \u001b[0;34m\u001b[0m\u001b[0m\n\u001b[1;32m     63\u001b[0m     \u001b[0mshadowAccumulator\u001b[0m \u001b[0;34m=\u001b[0m \u001b[0mShadowAccumulator\u001b[0m\u001b[0;34m(\u001b[0m\u001b[0mcentroid\u001b[0m\u001b[0;34m[\u001b[0m\u001b[0;36m1\u001b[0m\u001b[0;34m]\u001b[0m\u001b[0;34m,\u001b[0m \u001b[0mcentroid\u001b[0m\u001b[0;34m[\u001b[0m\u001b[0;36m0\u001b[0m\u001b[0;34m]\u001b[0m\u001b[0;34m,\u001b[0m \u001b[0mlayerJSONs\u001b[0m\u001b[0;34m,\u001b[0m \u001b[0mintervals\u001b[0m\u001b[0;34m)\u001b[0m\u001b[0;34m\u001b[0m\u001b[0;34m\u001b[0m\u001b[0m\n\u001b[0;32m---> 64\u001b[0;31m     \u001b[0mshadowAccumulator\u001b[0m\u001b[0;34m.\u001b[0m\u001b[0maccumulate_shadow\u001b[0m\u001b[0;34m(\u001b[0m\u001b[0;34m)\u001b[0m\u001b[0;34m\u001b[0m\u001b[0;34m\u001b[0m\u001b[0m\n\u001b[0m\u001b[1;32m     65\u001b[0m \u001b[0;34m\u001b[0m\u001b[0m\n\u001b[1;32m     66\u001b[0m     \u001b[0;32mreturn\u001b[0m \u001b[0mshadowAccumulator\u001b[0m\u001b[0;34m\u001b[0m\u001b[0;34m\u001b[0m\u001b[0m\n",
      "\u001b[0;32m~/Desktop/UIC/Research with Prof Miranda/Urban-Toolkit/UTK/utk-pip-version/cloned-from-git/utk/examples/downtown_manhattan/../../src/utk_backend/shadow_accumulator.py\u001b[0m in \u001b[0;36maccumulate_shadow\u001b[0;34m(self)\u001b[0m\n\u001b[1;32m    315\u001b[0m \u001b[0;34m\u001b[0m\u001b[0m\n\u001b[1;32m    316\u001b[0m         \u001b[0;32mfor\u001b[0m \u001b[0mindex\u001b[0m\u001b[0;34m,\u001b[0m \u001b[0minterval\u001b[0m \u001b[0;32min\u001b[0m \u001b[0menumerate\u001b[0m\u001b[0;34m(\u001b[0m\u001b[0mself\u001b[0m\u001b[0;34m.\u001b[0m\u001b[0mintervals\u001b[0m\u001b[0;34m)\u001b[0m\u001b[0;34m:\u001b[0m\u001b[0;34m\u001b[0m\u001b[0;34m\u001b[0m\u001b[0m\n\u001b[0;32m--> 317\u001b[0;31m             \u001b[0maccum\u001b[0m \u001b[0;34m=\u001b[0m \u001b[0mself\u001b[0m\u001b[0;34m.\u001b[0m\u001b[0maccumulate\u001b[0m\u001b[0;34m(\u001b[0m\u001b[0minterval\u001b[0m\u001b[0;34m[\u001b[0m\u001b[0;36m0\u001b[0m\u001b[0;34m]\u001b[0m\u001b[0;34m,\u001b[0m \u001b[0minterval\u001b[0m\u001b[0;34m[\u001b[0m\u001b[0;36m1\u001b[0m\u001b[0;34m]\u001b[0m\u001b[0;34m,\u001b[0m \u001b[0mself\u001b[0m\u001b[0;34m.\u001b[0m\u001b[0mlatitude\u001b[0m\u001b[0;34m,\u001b[0m \u001b[0mself\u001b[0m\u001b[0;34m.\u001b[0m\u001b[0mlongitude\u001b[0m\u001b[0;34m,\u001b[0m \u001b[0mself\u001b[0m\u001b[0;34m.\u001b[0m\u001b[0mcoords\u001b[0m\u001b[0;34m,\u001b[0m \u001b[0mself\u001b[0m\u001b[0;34m.\u001b[0m\u001b[0mindices\u001b[0m\u001b[0;34m,\u001b[0m \u001b[0mself\u001b[0m\u001b[0;34m.\u001b[0m\u001b[0mnormals\u001b[0m\u001b[0;34m,\u001b[0m \u001b[0;36m15\u001b[0m\u001b[0;34m)\u001b[0m\u001b[0;34m\u001b[0m\u001b[0;34m\u001b[0m\u001b[0m\n\u001b[0m\u001b[1;32m    318\u001b[0m \u001b[0;34m\u001b[0m\u001b[0m\n\u001b[1;32m    319\u001b[0m             \u001b[0mself\u001b[0m\u001b[0;34m.\u001b[0m\u001b[0mper_face_avg_accum\u001b[0m \u001b[0;34m=\u001b[0m \u001b[0mself\u001b[0m\u001b[0;34m.\u001b[0m\u001b[0mper_face_avg\u001b[0m\u001b[0;34m(\u001b[0m\u001b[0maccum\u001b[0m\u001b[0;34m,\u001b[0m \u001b[0mself\u001b[0m\u001b[0;34m.\u001b[0m\u001b[0mindices\u001b[0m\u001b[0;34m,\u001b[0m \u001b[0mself\u001b[0m\u001b[0;34m.\u001b[0m\u001b[0mids\u001b[0m\u001b[0;34m,\u001b[0m \u001b[0mself\u001b[0m\u001b[0;34m.\u001b[0m\u001b[0mids_per_structure\u001b[0m\u001b[0;34m)\u001b[0m \u001b[0;31m# accumulation per triangle\u001b[0m\u001b[0;34m\u001b[0m\u001b[0;34m\u001b[0m\u001b[0m\n",
      "\u001b[0;32m~/Desktop/UIC/Research with Prof Miranda/Urban-Toolkit/UTK/utk-pip-version/cloned-from-git/utk/examples/downtown_manhattan/../../src/utk_backend/shadow_accumulator.py\u001b[0m in \u001b[0;36maccumulate\u001b[0;34m(self, start, end, lat, lng, coords, indices, normals, nskip)\u001b[0m\n\u001b[1;32m    237\u001b[0m         \u001b[0mdirections\u001b[0m \u001b[0;34m=\u001b[0m \u001b[0mself\u001b[0m\u001b[0;34m.\u001b[0m\u001b[0mcompute_directions\u001b[0m\u001b[0;34m(\u001b[0m\u001b[0mstart\u001b[0m\u001b[0;34m,\u001b[0m \u001b[0mend\u001b[0m\u001b[0;34m,\u001b[0m \u001b[0mlat\u001b[0m\u001b[0;34m,\u001b[0m \u001b[0mlng\u001b[0m\u001b[0;34m,\u001b[0m \u001b[0mnskip\u001b[0m\u001b[0;34m)\u001b[0m\u001b[0;34m\u001b[0m\u001b[0;34m\u001b[0m\u001b[0m\n\u001b[1;32m    238\u001b[0m \u001b[0;34m\u001b[0m\u001b[0m\n\u001b[0;32m--> 239\u001b[0;31m         \u001b[0maccumulation\u001b[0m \u001b[0;34m=\u001b[0m \u001b[0mself\u001b[0m\u001b[0;34m.\u001b[0m\u001b[0mcompute\u001b[0m\u001b[0;34m(\u001b[0m\u001b[0mdirections\u001b[0m\u001b[0;34m,\u001b[0m \u001b[0mcoords\u001b[0m\u001b[0;34m,\u001b[0m \u001b[0mindices\u001b[0m\u001b[0;34m,\u001b[0m \u001b[0mnormals\u001b[0m\u001b[0;34m)\u001b[0m\u001b[0;34m\u001b[0m\u001b[0;34m\u001b[0m\u001b[0m\n\u001b[0m\u001b[1;32m    240\u001b[0m         \u001b[0;32mreturn\u001b[0m \u001b[0maccumulation\u001b[0m\u001b[0;34m\u001b[0m\u001b[0;34m\u001b[0m\u001b[0m\n\u001b[1;32m    241\u001b[0m \u001b[0;34m\u001b[0m\u001b[0m\n",
      "\u001b[0;32m~/Desktop/UIC/Research with Prof Miranda/Urban-Toolkit/UTK/utk-pip-version/cloned-from-git/utk/examples/downtown_manhattan/../../src/utk_backend/shadow_accumulator.py\u001b[0m in \u001b[0;36mcompute\u001b[0;34m(self, directions, coords, indices, normals)\u001b[0m\n\u001b[1;32m    119\u001b[0m     \u001b[0;31m# computes the shadow accumulation\u001b[0m\u001b[0;34m\u001b[0m\u001b[0;34m\u001b[0m\u001b[0m\n\u001b[1;32m    120\u001b[0m     \u001b[0;32mdef\u001b[0m \u001b[0mcompute\u001b[0m\u001b[0;34m(\u001b[0m\u001b[0mself\u001b[0m\u001b[0;34m,\u001b[0m \u001b[0mdirections\u001b[0m\u001b[0;34m,\u001b[0m \u001b[0mcoords\u001b[0m\u001b[0;34m,\u001b[0m \u001b[0mindices\u001b[0m\u001b[0;34m,\u001b[0m \u001b[0mnormals\u001b[0m\u001b[0;34m)\u001b[0m\u001b[0;34m:\u001b[0m\u001b[0;34m\u001b[0m\u001b[0;34m\u001b[0m\u001b[0m\n\u001b[0;32m--> 121\u001b[0;31m         \u001b[0;32mdef\u001b[0m \u001b[0mdone\u001b[0m\u001b[0;34m(\u001b[0m\u001b[0mrt\u001b[0m\u001b[0;34m:\u001b[0m \u001b[0mNpOptiX\u001b[0m\u001b[0;34m)\u001b[0m \u001b[0;34m->\u001b[0m \u001b[0;32mNone\u001b[0m\u001b[0;34m:\u001b[0m\u001b[0;34m\u001b[0m\u001b[0;34m\u001b[0m\u001b[0m\n\u001b[0m\u001b[1;32m    122\u001b[0m             \u001b[0mself\u001b[0m\u001b[0;34m.\u001b[0m\u001b[0mparams\u001b[0m\u001b[0;34m.\u001b[0m\u001b[0mk\u001b[0m \u001b[0;34m+=\u001b[0m \u001b[0;36m1\u001b[0m\u001b[0;34m\u001b[0m\u001b[0;34m\u001b[0m\u001b[0m\n\u001b[1;32m    123\u001b[0m             \u001b[0mself\u001b[0m\u001b[0;34m.\u001b[0m\u001b[0mparams\u001b[0m\u001b[0;34m.\u001b[0m\u001b[0mdone\u001b[0m\u001b[0;34m.\u001b[0m\u001b[0mset\u001b[0m\u001b[0;34m(\u001b[0m\u001b[0;34m)\u001b[0m\u001b[0;34m\u001b[0m\u001b[0;34m\u001b[0m\u001b[0m\n",
      "\u001b[0;31mNameError\u001b[0m: name 'NpOptiX' is not defined"
     ]
    }
   ],
   "source": [
    "shadow = shadow_utk_binary([org_content_buildings, org_content_surface], [[\"12/26/2015 10:00\", \"12/26/2015 11:01\"]])\n",
    "shadow.save()"
   ]
  },
  {
   "cell_type": "code",
   "execution_count": null,
   "metadata": {},
   "outputs": [],
   "source": [
    "# shadow = utk.data.shadow(['./downtown_manhattan/buildings.json', './downtown_manhattan/surface.json'], [[\"12/26/2015 10:00\", \"12/26/2015 11:01\"]])\n",
    "# shadow.save()"
   ]
  }
 ],
 "metadata": {
  "kernelspec": {
   "display_name": "base",
   "language": "python",
   "name": "python3"
  },
  "language_info": {
   "codemirror_mode": {
    "name": "ipython",
    "version": 3
   },
   "file_extension": ".py",
   "mimetype": "text/x-python",
   "name": "python",
   "nbconvert_exporter": "python",
   "pygments_lexer": "ipython3",
   "version": "3.9.13"
  },
  "orig_nbformat": 4,
  "vscode": {
   "interpreter": {
    "hash": "b4351807a6c6bda5d21ae3993f780f83f680b298c5efdaa552017137dbdbbfe2"
   }
  }
 },
 "nbformat": 4,
 "nbformat_minor": 2
}
